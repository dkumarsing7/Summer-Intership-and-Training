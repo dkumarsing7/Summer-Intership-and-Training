{
 "cells": [
  {
   "cell_type": "markdown",
   "id": "a4187a71",
   "metadata": {},
   "source": [
    "# Day 1"
   ]
  },
  {
   "cell_type": "code",
   "execution_count": 5,
   "id": "64652021",
   "metadata": {},
   "outputs": [
    {
     "name": "stdout",
     "output_type": "stream",
     "text": [
      "Hello, Deepak \n"
     ]
    }
   ],
   "source": [
    "'''1. Input your name into a variable called $name and then print \"Hello, <your name here>\".\n",
    "'''\n",
    "name = \"Deepak\"\n",
    "print(f\"Hello, {name} \")"
   ]
  },
  {
   "cell_type": "code",
   "execution_count": 10,
   "id": "235ba2b8",
   "metadata": {},
   "outputs": [
    {
     "name": "stdout",
     "output_type": "stream",
     "text": [
      "positive\n",
      "negative\n"
     ]
    }
   ],
   "source": [
    "'''2. Write a program that adds two numbers and then prints out whether the sum of those two numbers\n",
    "is positive or negative.\n",
    "'''\n",
    "def add(a,b):\n",
    "    return a+b\n",
    "def check(result):\n",
    "    if (result>0):\n",
    "        print(\"positive\")\n",
    "    else:\n",
    "        print('negative')\n",
    "check(add(5,8))\n",
    "check(add(5,-8))"
   ]
  },
  {
   "cell_type": "code",
   "execution_count": 6,
   "id": "ab4b4fea",
   "metadata": {},
   "outputs": [
    {
     "name": "stdout",
     "output_type": "stream",
     "text": [
      "Guess a number between 1 to 9 : 0\n",
      "Wrong\n",
      "Guess a number between 1 to 9 : 1\n",
      "Wrong\n",
      "Guess a number between 1 to 9 : 2\n",
      "Wrong\n",
      "Guess a number between 1 to 9 : 3\n",
      "Wrong\n",
      "Guess a number between 1 to 9 : 4\n",
      "Wrong\n",
      "Guess a number between 1 to 9 : 5\n",
      "Wrong\n",
      "Guess a number between 1 to 9 : 6\n",
      "Correct\n"
     ]
    }
   ],
   "source": [
    "'''3. Write a program that stores a number and keeps trying to get user input until the user enters the\n",
    "number correctly. As soon as the correct number is entered, it prints: Correct!\n",
    "'''\n",
    "import random as r\n",
    "hidden_num = r.randint(0,9)\n",
    "\n",
    "while(True):\n",
    "#     print(hidden_num)\n",
    "    user = int(input(\"Guess a number between 1 to 9 : \"))\n",
    "    if (user == hidden_num):\n",
    "        print(\"Correct\")\n",
    "        break\n",
    "    else:\n",
    "        print(\"Wrong\")"
   ]
  },
  {
   "cell_type": "code",
   "execution_count": 13,
   "id": "22263b79",
   "metadata": {},
   "outputs": [
    {
     "name": "stdout",
     "output_type": "stream",
     "text": [
      "Deepak.kumar\n"
     ]
    }
   ],
   "source": [
    "'''4. Input your first name and last name as two separate variables, labeled as $firstname and $lastname\n",
    "respectively. Concatenate them together using the dot operator '.' into a new variable called\n",
    "$wholename. Then print out the $wholename.\n",
    "'''\n",
    "firstname = 'Deepak'\n",
    "lastname = 'kumar'\n",
    "wholename = firstname + '.' + lastname\n",
    "print(wholename)"
   ]
  },
  {
   "cell_type": "code",
   "execution_count": 5,
   "id": "97b02f4d",
   "metadata": {},
   "outputs": [
    {
     "name": "stdout",
     "output_type": "stream",
     "text": [
      "Enter a string : Hello Deepak\n",
      "hELLO dEEPAK\n"
     ]
    }
   ],
   "source": [
    "'''5. Write a program to accept an input string from the user and toggle the character cases.\n",
    "For example, $str=” Hello How Are You?”\n",
    "O/p : hELLO hOW aRE yOU\n",
    "'''\n",
    "string = input(\"Enter a string : \")\n",
    "result = ''\n",
    "for char in string:\n",
    "    if char.isalpha:\n",
    "        if char.islower():\n",
    "            result+=char.upper()\n",
    "        else:\n",
    "            result+=char.lower()\n",
    "print(result)"
   ]
  },
  {
   "cell_type": "code",
   "execution_count": 2,
   "id": "849bfbe4",
   "metadata": {},
   "outputs": [
    {
     "name": "stdout",
     "output_type": "stream",
     "text": [
      "Sum: 10\n",
      "Product: 24\n"
     ]
    }
   ],
   "source": [
    "'''6. Write a program which will perform sum and multiplication ,that sums and multiplies\n",
    "(respectively) all the numbers in a list of numbers. For example, sum([1, 2, 3, 4]) should return 10,\n",
    "and multiply([1, 2, 3, 4]) should return 24.\n",
    "'''\n",
    "from functools import reduce\n",
    "\n",
    "enter_list = [1, 2, 3, 4]\n",
    "\n",
    "total_sum = sum(enter_list)\n",
    "print(\"Sum:\", total_sum)\n",
    "\n",
    "product = reduce(lambda x, y: x * y, enter_list)\n",
    "print(\"Product:\", product)\n"
   ]
  },
  {
   "cell_type": "code",
   "execution_count": 15,
   "id": "ba737d7a",
   "metadata": {},
   "outputs": [
    {
     "name": "stdout",
     "output_type": "stream",
     "text": [
      "Enter string or number to check is present in list or not  : Deepak\n",
      "True\n"
     ]
    }
   ],
   "source": [
    "'''7. Write a program that takes a value (i.e. a number, string, etc) x and a list of values a, and returns\n",
    "True if x is a member of a, False otherwise. (Note that this is exactly what the in operator does, but for\n",
    "the sake of the exercise you should pretend Python did not have this operator.)\n",
    "'''\n",
    "a = ['Deepak', 'Jalaj', 'Regex', 'Training', 'Jiet', '10', '20']\n",
    "user = input(\"Enter string or number to check is present in list or not  : \")\n",
    "for i in range(len(a)):\n",
    "    if (user==a[i]):\n",
    "        print(\"True\")\n",
    "        break\n",
    "else:\n",
    "    print(\"False\")\n",
    "\n"
   ]
  },
  {
   "cell_type": "code",
   "execution_count": 16,
   "id": "7e5a9172",
   "metadata": {},
   "outputs": [
    {
     "name": "stdout",
     "output_type": "stream",
     "text": [
      "True\n"
     ]
    }
   ],
   "source": [
    "'''8. Write a program that has two lists and print True if they have at least one member in common,\n",
    "False otherwise. You may use your is_member() function, or the in operator, but for the sake of the\n",
    "exercise, you should (also) write it using two nested for-loops.'''\n",
    "\n",
    "first = ['Deepak', 'Jalaj', 'Regex', 'Training', 'Jiet', '10', '20']\n",
    "second = ['Deepaksingh', 'Jalajsharma', 'Regex', 'intership', 'Jietclg', '10f', '2f0']\n",
    "match_found =0\n",
    "for i in range(len(first)):\n",
    "    for j in range(len(second)):\n",
    "        if first[i] == second[j]:\n",
    "#             print(first[i], second[j])\n",
    "            match_found = 1\n",
    "            break\n",
    "    if match_found:\n",
    "        print(\"True\")\n",
    "        break"
   ]
  },
  {
   "cell_type": "code",
   "execution_count": 18,
   "id": "0850995d",
   "metadata": {},
   "outputs": [
    {
     "name": "stdout",
     "output_type": "stream",
     "text": [
      "****\n",
      "*********\n",
      "*******\n"
     ]
    }
   ],
   "source": [
    "'''9. Write a program for histogram that takes a list of integers and prints a histogram to the screen. For\n",
    "example, histogram([4, 9, 7]) should print the following:\n",
    "****\n",
    "*********\n",
    "*******\n",
    "'''\n",
    "histogram = [4,9,7]\n",
    "for i in histogram:\n",
    "    print('*'*i)"
   ]
  },
  {
   "cell_type": "code",
   "execution_count": 32,
   "id": "a6797b97",
   "metadata": {},
   "outputs": [
    {
     "name": "stdout",
     "output_type": "stream",
     "text": [
      "In 100 meter race only : {'Vikay', 'Rajesh', 'John', 'Vaihai'}\n",
      "In 200 meter race only : {'Priyanka', 'Petter', 'Vetry'}\n",
      "In both the race : {'Kumar', 'Malar'}\n",
      "In only one race only : {'Vikay', 'Rajesh', 'Petter', 'Priyanka', 'John', 'Vetry', 'Vaihai'}\n"
     ]
    }
   ],
   "source": [
    "'''10 . List of athletes participated in 100m and 200m running race\n",
    "a. hundred_meters = [‘Vikay’,’John’,’Kumar’,’Rajesh’,’Malar’,’Vaihai’]\n",
    "b. two_hundred_meters = [‘Vetry’,’Petter’,’Priyanka’,’Kumar’,’Malar’]\n",
    "Find the answer for below question from above lists (using set and Boolean Operators)\n",
    "a. Find the athletes who participated only in 100m race\n",
    "b. Find the athletes who participated only in 200m race\n",
    "c. Find the athletes who participated both 100m and 200m race\n",
    "d. Find the athletes who participated only one race\n",
    "'''\n",
    "hundred_meters = ['Vikay','John','Kumar','Rajesh','Malar','Vaihai']\n",
    "two_hundred_meters = ['Vetry','Petter','Priyanka','Kumar','Malar']\n",
    "m100 = set(hundred_meters)\n",
    "m200 = set(two_hundred_meters)\n",
    "print(f\"In 100 meter race only : {m100-m200}\")\n",
    "print(f\"In 200 meter race only : {m200-m100}\")\n",
    "print(f\"In both the race : {m100 & m200}\")\n",
    "print(f\"In only one race only : {(m100 | m200) - (m100 & m200)}\")"
   ]
  },
  {
   "cell_type": "code",
   "execution_count": 44,
   "id": "7f4ae2ec",
   "metadata": {},
   "outputs": [
    {
     "name": "stdout",
     "output_type": "stream",
     "text": [
      "{8, 18, 3, 5}\n"
     ]
    }
   ],
   "source": [
    "# 11. Find the duplicate numbers from below list\n",
    "List = [5, 8,4,18,8,55,6,8,3,18,5,3,44,]\n",
    "duplicate = set()\n",
    "seen = []\n",
    "for ele in List:\n",
    "    if ele in seen:\n",
    "        duplicate.add(ele)\n",
    "    else:\n",
    "        seen.append(ele)\n",
    "print(duplicate)\n"
   ]
  },
  {
   "cell_type": "code",
   "execution_count": 51,
   "id": "f8cb5c7d",
   "metadata": {},
   "outputs": [
    {
     "name": "stdout",
     "output_type": "stream",
     "text": [
      "['snack', 'crocodile', 'zebra', 'lion', 'tiger', 'cat']\n"
     ]
    }
   ],
   "source": [
    "# 12. Reverse the below list without using any inbuilt keywords (like reverse() or [::-1])\n",
    "List = [\"cat\",\"tiger\",\"lion\", \"zebra\" , \"crocodile\", \"snack\"]\n",
    "# List.insert(0,\"deepak\")\n",
    "# print(List)\n",
    "newList = []\n",
    "def reverse(List):\n",
    "    for item in List:\n",
    "            newList.insert(0,item)\n",
    "    return newList\n",
    "print(reverse(List))\n",
    "    "
   ]
  }
 ],
 "metadata": {
  "kernelspec": {
   "display_name": "Python 3 (ipykernel)",
   "language": "python",
   "name": "python3"
  },
  "language_info": {
   "codemirror_mode": {
    "name": "ipython",
    "version": 3
   },
   "file_extension": ".py",
   "mimetype": "text/x-python",
   "name": "python",
   "nbconvert_exporter": "python",
   "pygments_lexer": "ipython3",
   "version": "3.9.13"
  }
 },
 "nbformat": 4,
 "nbformat_minor": 5
}
