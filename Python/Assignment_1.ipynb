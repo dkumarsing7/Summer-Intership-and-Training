{
 "cells": [
  {
   "cell_type": "code",
   "execution_count": 1,
   "id": "f3cf73e8",
   "metadata": {},
   "outputs": [
    {
     "name": "stdout",
     "output_type": "stream",
     "text": [
      "Enter the number of units: 100\n",
      "Total price: 1600 rs\n"
     ]
    }
   ],
   "source": [
    "'''\n",
    "Q1 user gives input for number of unit in intger\n",
    " - for the starting 10 unit price is 50 rs each\n",
    " - for the next 20 unit price is 20 rs each\n",
    " - for the rest of unit price will be 10 rs\n",
    "   calculate the toatl price for 100 unit? \n",
    "'''\n",
    "units = int(input(\"Enter the number of units: \"))\n",
    "\n",
    "total_price = 0\n",
    "\n",
    "if units >= 10:\n",
    "    total_price += 10 * 50  \n",
    "    units -= 10\n",
    "else:\n",
    "    total_price += units * 50  \n",
    "    units = 0\n",
    "\n",
    "if units >= 20:\n",
    "    total_price += 20 * 20  \n",
    "    units -= 20\n",
    "else:\n",
    "    total_price += units * 20  \n",
    "    units = 0\n",
    "\n",
    "total_price += units * 10  \n",
    "\n",
    "print(\"Total price:\", total_price, \"rs\")\n",
    "\n"
   ]
  },
  {
   "cell_type": "code",
   "execution_count": 3,
   "id": "3f15dbb9",
   "metadata": {},
   "outputs": [
    {
     "name": "stdout",
     "output_type": "stream",
     "text": [
      "enter side 1 3\n",
      "enter side 2 4\n",
      "enter side 3 5\n",
      "it makes an triangle\n"
     ]
    }
   ],
   "source": [
    "'''\n",
    "Q2 take 3 number as the input from a user\n",
    "   as 3 side of a triangle and check whether \n",
    "   it will create a triangle or not ?\n",
    "'''\n",
    "a=int(input(\"enter side 1 \"))\n",
    "b=int(input(\"enter side 2 \"))\n",
    "c=int(input(\"enter side 3 \"))\n",
    "\n",
    "if (a+b>c and a+c>b and b+c>a):\n",
    "    print(\"it makes an triangle\")\n",
    "else:\n",
    "    print(\"not make an triangle\")\n"
   ]
  },
  {
   "cell_type": "code",
   "execution_count": 4,
   "id": "24f01797",
   "metadata": {},
   "outputs": [
    {
     "name": "stdout",
     "output_type": "stream",
     "text": [
      "enter no. 1 36\n",
      "enter no. 2 42\n",
      "it is divisble by 6\n"
     ]
    }
   ],
   "source": [
    "'''\n",
    "Q3 take 2 numbers from the user and check whether\n",
    "   both the numbers are divisible by 6 \n",
    "   (it should be divided by 2 and 3)?\n",
    "'''\n",
    "n1=int(input(\"enter no. 1 \"))\n",
    "n2=int(input(\"enter no. 2 \"))\n",
    "\n",
    "if(n1%2==0 and n1%3==0 and n2%2==0 and n2%3==0):\n",
    "    print(\"it is divisble by 6\")\n",
    "else:\n",
    "     print(\"it is not divisble by 6\")"
   ]
  },
  {
   "cell_type": "code",
   "execution_count": 6,
   "id": "b0e4b397",
   "metadata": {},
   "outputs": [
    {
     "name": "stdout",
     "output_type": "stream",
     "text": [
      "Enter a year: 2024\n",
      "2024 is a leap year.\n"
     ]
    }
   ],
   "source": [
    "'''Q4 check input year is leap year or not?'''\n",
    "year = int(input(\"Enter a year: \"))\n",
    "\n",
    "if (year % 4 == 0 and year % 100 != 0) or (year % 400 == 0):\n",
    "    print(year, \"is a leap year.\")\n",
    "else:\n",
    "    print(year, \"is not a leap year.\")"
   ]
  },
  {
   "cell_type": "code",
   "execution_count": 2,
   "id": "9c0e03e6",
   "metadata": {},
   "outputs": [
    {
     "ename": "NameError",
     "evalue": "name '_name_' is not defined",
     "output_type": "error",
     "traceback": [
      "\u001b[1;31m---------------------------------------------------------------------------\u001b[0m",
      "\u001b[1;31mNameError\u001b[0m                                 Traceback (most recent call last)",
      "\u001b[1;32m~\\AppData\\Local\\Temp\\ipykernel_17164\\2095344870.py\u001b[0m in \u001b[0;36m<module>\u001b[1;34m\u001b[0m\n\u001b[0;32m     49\u001b[0m         \u001b[0mprint\u001b[0m\u001b[1;33m(\u001b[0m\u001b[1;34m\"Invalid input. Please enter 1, 2, 3, or 4.\"\u001b[0m\u001b[1;33m)\u001b[0m\u001b[1;33m\u001b[0m\u001b[1;33m\u001b[0m\u001b[0m\n\u001b[0;32m     50\u001b[0m \u001b[1;33m\u001b[0m\u001b[0m\n\u001b[1;32m---> 51\u001b[1;33m \u001b[1;32mif\u001b[0m \u001b[0m_name_\u001b[0m \u001b[1;33m==\u001b[0m \u001b[1;34m\"_main_\"\u001b[0m\u001b[1;33m:\u001b[0m\u001b[1;33m\u001b[0m\u001b[1;33m\u001b[0m\u001b[0m\n\u001b[0m\u001b[0;32m     52\u001b[0m     \u001b[0mmain\u001b[0m\u001b[1;33m(\u001b[0m\u001b[1;33m)\u001b[0m\u001b[1;33m\u001b[0m\u001b[1;33m\u001b[0m\u001b[0m\n",
      "\u001b[1;31mNameError\u001b[0m: name '_name_' is not defined"
     ]
    }
   ],
   "source": [
    "'''\n",
    "Q5  if user gives input as 1 then \n",
    "    print date\n",
    "    if user gives input as 2 then \n",
    "    make folder\n",
    "    if user gives input as 3 then \n",
    "    make file at desktop\n",
    "    if user gives input as 4 then \n",
    "    shutdown window\n",
    "'''\n",
    "import os\n",
    "import datetime\n",
    "\n",
    "def print_current_datetime():\n",
    "    current_datetime = datetime.datetime.now()\n",
    "    print(\"Current Date and Time:\", current_datetime)\n",
    "\n",
    "def create_folder_on_desktop(folder_name):\n",
    "    desktop_path = os.path.join(os.path.expanduser('~'), 'Desktop')\n",
    "    folder_path = os.path.join(desktop_path, folder_name)\n",
    "    os.makedirs(folder_path)\n",
    "    print(\"Folder created successfully at:\", folder_path)\n",
    "\n",
    "def create_file_on_desktop(file_name):\n",
    "    desktop_path = os.path.join(os.path.expanduser('~'), 'Desktop')\n",
    "    file_path = os.path.join(desktop_path, file_name)\n",
    "    with open(file_path, 'w') as file:\n",
    "        file.write(\"This is a sample file created by the program.\")\n",
    "    print(\"File created successfully at:\", file_path)\n",
    "\n",
    "def shutdown_window():\n",
    "    os.system(\"shutdown /s /t 1\")\n",
    "    print(\"Shutting down the window...\")\n",
    "\n",
    "def main():\n",
    "    user_input = input(\"Enter your choice (1, 2, 3, 4): \")\n",
    "    \n",
    "    if user_input == '1':\n",
    "        print_current_datetime()\n",
    "    elif user_input == '2':\n",
    "        folder_name = input(\"Enter the folder name: \")\n",
    "        create_folder_on_desktop(folder_name)\n",
    "    elif user_input == '3':\n",
    "        file_name = input(\"Enter the file name: \")\n",
    "        create_file_on_desktop(file_name)\n",
    "    elif user_input == '4':\n",
    "        shutdown_window()\n",
    "    else:\n",
    "        print(\"Invalid input. Please enter 1, 2, 3, or 4.\")\n",
    "\n",
    "if _name_ == \"_main_\":\n",
    "    main()"
   ]
  },
  {
   "cell_type": "code",
   "execution_count": 3,
   "id": "ec891a06",
   "metadata": {},
   "outputs": [
    {
     "name": "stdout",
     "output_type": "stream",
     "text": [
      "Note: you may need to restart the kernel to use updated packages.\n"
     ]
    },
    {
     "name": "stderr",
     "output_type": "stream",
     "text": [
      "ERROR: Could not find a version that satisfies the requirement os (from versions: none)\n",
      "ERROR: No matching distribution found for os\n"
     ]
    }
   ],
   "source": [
    "pip install os"
   ]
  }
 ],
 "metadata": {
  "kernelspec": {
   "display_name": "Python 3 (ipykernel)",
   "language": "python",
   "name": "python3"
  },
  "language_info": {
   "codemirror_mode": {
    "name": "ipython",
    "version": 3
   },
   "file_extension": ".py",
   "mimetype": "text/x-python",
   "name": "python",
   "nbconvert_exporter": "python",
   "pygments_lexer": "ipython3",
   "version": "3.9.13"
  }
 },
 "nbformat": 4,
 "nbformat_minor": 5
}
