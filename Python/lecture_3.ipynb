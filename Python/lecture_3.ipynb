{
 "cells": [
  {
   "cell_type": "code",
   "execution_count": 31,
   "id": "49a71f22",
   "metadata": {},
   "outputs": [
    {
     "name": "stdout",
     "output_type": "stream",
     "text": [
      "$$$$*\n",
      "$$$**\n",
      "$$***\n",
      "$****\n",
      "*****\n"
     ]
    }
   ],
   "source": [
    "#pattern making\n",
    "for i in range(1,6):\n",
    "    for j in range(i,5):\n",
    "        print('$',end='')\n",
    "    for k in range(1,i+1):\n",
    "        print('*',end='')\n",
    "    print()"
   ]
  },
  {
   "cell_type": "code",
   "execution_count": 33,
   "id": "46262a64",
   "metadata": {},
   "outputs": [
    {
     "name": "stdout",
     "output_type": "stream",
     "text": [
      "hello 1\n",
      "hello 2\n",
      "hello 3\n",
      "hello 4\n"
     ]
    }
   ],
   "source": [
    "#while loop\n",
    "i=1\n",
    "while(i<5):\n",
    "    print(\"hello\",i)\n",
    "    i+=1"
   ]
  },
  {
   "cell_type": "code",
   "execution_count": 92,
   "id": "b04240a5",
   "metadata": {},
   "outputs": [
    {
     "name": "stdout",
     "output_type": "stream",
     "text": [
      "<class 'list'>\n"
     ]
    }
   ],
   "source": [
    "#data structure\n",
    "#list tuple dictionary set\n",
    "#list : collection of element, whichh has index position\n",
    "#- mutable datatype\n",
    "#- ordered collection of element\n",
    "\n",
    "mylist = [10,20,'deepak']\n",
    "print(type(mylist))\n"
   ]
  },
  {
   "cell_type": "code",
   "execution_count": 47,
   "id": "292d6cf7",
   "metadata": {},
   "outputs": [
    {
     "name": "stdout",
     "output_type": "stream",
     "text": [
      "[1000, 20, 'deepak']\n"
     ]
    }
   ],
   "source": [
    "print(mylist[0:10])"
   ]
  },
  {
   "cell_type": "code",
   "execution_count": 48,
   "id": "8f76c554",
   "metadata": {},
   "outputs": [],
   "source": [
    "mylist[0]=1000"
   ]
  },
  {
   "cell_type": "code",
   "execution_count": 52,
   "id": "d95daa30",
   "metadata": {},
   "outputs": [],
   "source": [
    "mylist.append(6)"
   ]
  },
  {
   "cell_type": "code",
   "execution_count": 55,
   "id": "44940676",
   "metadata": {},
   "outputs": [
    {
     "data": {
      "text/plain": [
       "[1000, 20, 'deepak', 6, 6, 6, 'h', 'e', 'y']"
      ]
     },
     "execution_count": 55,
     "metadata": {},
     "output_type": "execute_result"
    }
   ],
   "source": [
    "mylist[:]"
   ]
  },
  {
   "cell_type": "code",
   "execution_count": 56,
   "id": "5f137ed6",
   "metadata": {},
   "outputs": [],
   "source": [
    "mylist.extend(\"hey\")"
   ]
  },
  {
   "cell_type": "code",
   "execution_count": 61,
   "id": "64e2519c",
   "metadata": {},
   "outputs": [],
   "source": [
    "mylist.extend([\"hey\", 99])"
   ]
  },
  {
   "cell_type": "code",
   "execution_count": 84,
   "id": "69b06562",
   "metadata": {},
   "outputs": [
    {
     "data": {
      "text/plain": [
       "6"
      ]
     },
     "execution_count": 84,
     "metadata": {},
     "output_type": "execute_result"
    }
   ],
   "source": [
    "mylist.pop()\n",
    "mylist.pop(2)"
   ]
  },
  {
   "cell_type": "code",
   "execution_count": 89,
   "id": "dae16de4",
   "metadata": {},
   "outputs": [
    {
     "ename": "ValueError",
     "evalue": "list.remove(x): x not in list",
     "output_type": "error",
     "traceback": [
      "\u001b[1;31m---------------------------------------------------------------------------\u001b[0m",
      "\u001b[1;31mValueError\u001b[0m                                Traceback (most recent call last)",
      "\u001b[1;32m~\\AppData\\Local\\Temp\\ipykernel_10364\\2621463825.py\u001b[0m in \u001b[0;36m<module>\u001b[1;34m\u001b[0m\n\u001b[1;32m----> 1\u001b[1;33m \u001b[0mmylist\u001b[0m\u001b[1;33m.\u001b[0m\u001b[0mremove\u001b[0m\u001b[1;33m(\u001b[0m\u001b[1;34m'deepak'\u001b[0m\u001b[1;33m)\u001b[0m\u001b[1;33m\u001b[0m\u001b[1;33m\u001b[0m\u001b[0m\n\u001b[0m",
      "\u001b[1;31mValueError\u001b[0m: list.remove(x): x not in list"
     ]
    }
   ],
   "source": [
    "mylist.remove('deepak')"
   ]
  },
  {
   "cell_type": "code",
   "execution_count": 90,
   "id": "a1f5e381",
   "metadata": {},
   "outputs": [],
   "source": [
    "del mylist[0]"
   ]
  },
  {
   "cell_type": "code",
   "execution_count": 91,
   "id": "8b58a41b",
   "metadata": {},
   "outputs": [
    {
     "data": {
      "text/plain": [
       "[20]"
      ]
     },
     "execution_count": 91,
     "metadata": {},
     "output_type": "execute_result"
    }
   ],
   "source": [
    "mylist[:]"
   ]
  },
  {
   "cell_type": "code",
   "execution_count": 106,
   "id": "0fcfd713",
   "metadata": {},
   "outputs": [
    {
     "name": "stdout",
     "output_type": "stream",
     "text": [
      "[10, 20, 300]\n"
     ]
    }
   ],
   "source": [
    "#check if element is of integer type then square it apend it in new list\n",
    "mylist = [10,20,300,'hey',11.3]\n",
    "new = []\n",
    "for i in mylist:\n",
    "    if (type(i) is int):\n",
    "        new.append(i)\n",
    "print(new)"
   ]
  },
  {
   "cell_type": "code",
   "execution_count": 112,
   "id": "9774c3d9",
   "metadata": {},
   "outputs": [
    {
     "name": "stdout",
     "output_type": "stream",
     "text": [
      "153\n"
     ]
    }
   ],
   "source": [
    "#Armstrong\n",
    "ans=0\n",
    "num = 153\n",
    "x1=num%10\n",
    "num=num//10\n",
    "\n",
    "x2=num%10\n",
    "num=num//10\n",
    "\n",
    "x3=num%10\n",
    "num=num//10\n",
    "\n",
    "print(x1**3 + x2**3 + x3**3)"
   ]
  },
  {
   "cell_type": "code",
   "execution_count": 118,
   "id": "5f4f15a1",
   "metadata": {},
   "outputs": [
    {
     "name": "stdout",
     "output_type": "stream",
     "text": [
      "Enter a number : 152\n",
      "not\n"
     ]
    }
   ],
   "source": [
    "original=int(input(\"Enter a number : \"))\n",
    "num=original\n",
    "\n",
    "total=0\n",
    "while(num>0):\n",
    "    rem=num%10\n",
    "    total+=rem**3\n",
    "    num=num//10\n",
    "if(total == original):\n",
    "    print(\"armstrong\")\n",
    "else:\n",
    "    print(\"not\")\n"
   ]
  },
  {
   "cell_type": "code",
   "execution_count": null,
   "id": "ecba4fa4",
   "metadata": {},
   "outputs": [],
   "source": [
    "#homework\n",
    "\n",
    "#take input from user let day =10\n",
    "# in first week intial amount is 1 then 2 then 3 and upto 7 for a week\n",
    "# in second week intial amount is 2 then 3 then 4 and upto 8 for this week\n",
    "\n",
    "day =10\n",
    "amt=0"
   ]
  },
  {
   "cell_type": "code",
   "execution_count": null,
   "id": "696c9612",
   "metadata": {},
   "outputs": [],
   "source": []
  },
  {
   "cell_type": "code",
   "execution_count": 119,
   "id": "2ce620c2",
   "metadata": {},
   "outputs": [],
   "source": [
    "#Tuple"
   ]
  },
  {
   "cell_type": "code",
   "execution_count": null,
   "id": "d1d72002",
   "metadata": {},
   "outputs": [],
   "source": [
    "#when to use \n",
    "- in case of email phone or any data\n",
    "- which not need to be change"
   ]
  },
  {
   "cell_type": "code",
   "execution_count": 124,
   "id": "e25f1d1a",
   "metadata": {},
   "outputs": [
    {
     "data": {
      "text/plain": [
       "tuple"
      ]
     },
     "execution_count": 124,
     "metadata": {},
     "output_type": "execute_result"
    }
   ],
   "source": [
    "mytuple1=10,10\n",
    "type(mytuple)\n",
    "mytuple2=(10,10)\n",
    "type(mytuple2)"
   ]
  },
  {
   "cell_type": "code",
   "execution_count": 128,
   "id": "a353c5d2",
   "metadata": {},
   "outputs": [
    {
     "name": "stdout",
     "output_type": "stream",
     "text": [
      "(10, 10, 60, 70, 60, 70, 60, 70)\n"
     ]
    }
   ],
   "source": [
    "mytuple=mytuple+(60,70)\n",
    "print(mytuple)"
   ]
  },
  {
   "cell_type": "code",
   "execution_count": null,
   "id": "be9df614",
   "metadata": {},
   "outputs": [],
   "source": []
  },
  {
   "cell_type": "code",
   "execution_count": null,
   "id": "1fdd4373",
   "metadata": {},
   "outputs": [],
   "source": [
    "#Dictionary"
   ]
  },
  {
   "cell_type": "code",
   "execution_count": null,
   "id": "a602db96",
   "metadata": {},
   "outputs": [],
   "source": [
    "#collection of element in key:value form\n",
    "#key: identifier\n",
    "#value: data"
   ]
  },
  {
   "cell_type": "code",
   "execution_count": 142,
   "id": "56656499",
   "metadata": {},
   "outputs": [
    {
     "name": "stdout",
     "output_type": "stream",
     "text": [
      "deepak\n",
      "{1: 'deepak', 2: 'deepak', 3: 'himanshu'}\n",
      "{1: 'deepak', 2: 'deepak'}\n"
     ]
    }
   ],
   "source": [
    "dic = {1:\"deepak\",2:\"deepak\"}\n",
    "print(dic[1])\n",
    "#add\n",
    "dic[3]='himanshu'\n",
    "print(dic)\n",
    "#del\n",
    "dic.pop(3)\n",
    "print(dic)"
   ]
  },
  {
   "cell_type": "code",
   "execution_count": 144,
   "id": "8255c892",
   "metadata": {},
   "outputs": [
    {
     "name": "stdout",
     "output_type": "stream",
     "text": [
      "{'h': 1, 'e': 1, 'l': 1, 'o': 1}\n"
     ]
    }
   ],
   "source": [
    "#make key pair for each char of \"hello\"\n",
    "string = \"hello\"\n",
    "my_d = {}\n",
    "for i in string:\n",
    "    my_d[i]=1\n",
    "print(my_d)"
   ]
  },
  {
   "cell_type": "code",
   "execution_count": 159,
   "id": "67f8bf97",
   "metadata": {},
   "outputs": [
    {
     "name": "stdout",
     "output_type": "stream",
     "text": [
      "True\n"
     ]
    }
   ],
   "source": [
    "mydic3 = {1:'deepak',1:'jalaj'}\n",
    "print(1 in mydic3)\n"
   ]
  },
  {
   "cell_type": "code",
   "execution_count": 162,
   "id": "835e1cbf",
   "metadata": {},
   "outputs": [
    {
     "name": "stdout",
     "output_type": "stream",
     "text": [
      "{'e': 4, 'a': 1, 'o': 1}\n"
     ]
    }
   ],
   "source": [
    "string= 'hey deepak hello'\n",
    "new={}\n",
    "count=0\n",
    "for char in string:\n",
    "    if(char in 'aeiou'):\n",
    "        if char not in new:\n",
    "            new[char]=1\n",
    "        else:\n",
    "            new[char]=new[char]+1\n",
    "\n",
    "print(new)"
   ]
  }
 ],
 "metadata": {
  "kernelspec": {
   "display_name": "Python 3 (ipykernel)",
   "language": "python",
   "name": "python3"
  },
  "language_info": {
   "codemirror_mode": {
    "name": "ipython",
    "version": 3
   },
   "file_extension": ".py",
   "mimetype": "text/x-python",
   "name": "python",
   "nbconvert_exporter": "python",
   "pygments_lexer": "ipython3",
   "version": "3.9.13"
  }
 },
 "nbformat": 4,
 "nbformat_minor": 5
}
