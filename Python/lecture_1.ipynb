{
 "cells": [
  {
   "cell_type": "code",
   "execution_count": 4,
   "id": "c952ad8c-8a3d-45dd-bc32-4f753ba85e0b",
   "metadata": {},
   "outputs": [
    {
     "name": "stdout",
     "output_type": "stream",
     "text": [
      "hello  world-hii\n"
     ]
    }
   ],
   "source": [
    "print(\"hello  world\", end=\"-\")\n",
    "print(\"hii\")\n"
   ]
  },
  {
   "cell_type": "code",
   "execution_count": 5,
   "id": "a29782a4-15ba-428d-b21c-bc396a6d2764",
   "metadata": {},
   "outputs": [
    {
     "name": "stdout",
     "output_type": "stream",
     "text": [
      "hello  world-hii\n",
      "hh\n"
     ]
    }
   ],
   "source": [
    "print(\"hello  world\", end=\"-\")\n",
    "print(\"hii\")\n",
    "print(\"hh\")"
   ]
  },
  {
   "cell_type": "code",
   "execution_count": 6,
   "id": "a1f21538-e6b5-4ba3-bd3e-ad44fd96a440",
   "metadata": {},
   "outputs": [],
   "source": [
    "age=100"
   ]
  },
  {
   "cell_type": "code",
   "execution_count": 7,
   "id": "72ac507b-0175-4d7f-af57-99d58ec38161",
   "metadata": {},
   "outputs": [
    {
     "name": "stdout",
     "output_type": "stream",
     "text": [
      "<class 'int'>\n"
     ]
    }
   ],
   "source": [
    "print(type(age))\n"
   ]
  },
  {
   "cell_type": "code",
   "execution_count": 9,
   "id": "01bc14a9-956d-4430-bab8-bcf36e22110b",
   "metadata": {},
   "outputs": [
    {
     "name": "stdout",
     "output_type": "stream",
     "text": [
      "<class 'str'>\n"
     ]
    }
   ],
   "source": [
    "city=\"jaipur\"\n",
    "print(type(city)) # type show data type"
   ]
  },
  {
   "cell_type": "code",
   "execution_count": 12,
   "id": "6e47544a-ea4e-4691-84ae-64972e0e991a",
   "metadata": {},
   "outputs": [
    {
     "name": "stdout",
     "output_type": "stream",
     "text": [
      " mahtma gandhi road\n",
      "gopapalpura road ja\n",
      "jaipur\n"
     ]
    }
   ],
   "source": [
    "address=\"\"\" mahtma gandhi road\n",
    "gopapalpura road ja\n",
    "jaipur\"\"\"\n",
    "print(address)"
   ]
  },
  {
   "cell_type": "code",
   "execution_count": 16,
   "id": "bc0c021c-2eb6-453a-a077-d751cda14530",
   "metadata": {},
   "outputs": [
    {
     "name": "stdout",
     "output_type": "stream",
     "text": [
      "company name is regex year is 2024\n"
     ]
    }
   ],
   "source": [
    "company =\"regex\"\n",
    "year =2024\n",
    "print(\"company name is\" ,company ,\"year is\" ,year)"
   ]
  },
  {
   "cell_type": "code",
   "execution_count": 15,
   "id": "52f16169-d0b1-4c1e-917f-fcab920df3ba",
   "metadata": {},
   "outputs": [
    {
     "name": "stdout",
     "output_type": "stream",
     "text": [
      "company name is regex year is 2024\n"
     ]
    }
   ],
   "source": [
    "company =\"regex\"t\n",
    "year =2024\n",
    "print(f\"company name is {company} year is {year}\")"
   ]
  },
  {
   "cell_type": "code",
   "execution_count": 20,
   "id": "52323055-9a4d-4595-8806-dfe798b6e0e1",
   "metadata": {},
   "outputs": [
    {
     "name": "stdout",
     "output_type": "stream",
     "text": [
      "2004111969472\n",
      "140713686535456\n",
      "2004111969472\n"
     ]
    }
   ],
   "source": [
    "city=\"jaipur\"\n",
    "print(id(city))#id to print address\n",
    "city=\"new\"\n",
    "print(id(city))\n",
    "y=\"jaipur\"\n",
    "print(id(y))\n",
    "\n"
   ]
  },
  {
   "cell_type": "code",
   "execution_count": 17,
   "id": "eac7cd91-0515-4aa2-97d2-66da11513d99",
   "metadata": {},
   "outputs": [
    {
     "data": {
      "text/plain": [
       "6.666666666666667"
      ]
     },
     "execution_count": 17,
     "metadata": {},
     "output_type": "execute_result"
    }
   ],
   "source": [
    "#operators\n",
    "#arithemetics\n",
    "20/3"
   ]
  },
  {
   "cell_type": "code",
   "execution_count": 18,
   "id": "b57961c6-65d4-431d-bfc7-dcfc4e640144",
   "metadata": {},
   "outputs": [
    {
     "data": {
      "text/plain": [
       "6"
      ]
     },
     "execution_count": 18,
     "metadata": {},
     "output_type": "execute_result"
    }
   ],
   "source": [
    "20//3"
   ]
  },
  {
   "cell_type": "code",
   "execution_count": 19,
   "id": "6a9c463c-0cc5-4e01-8fe2-437b4dcd39d5",
   "metadata": {},
   "outputs": [
    {
     "data": {
      "text/plain": [
       "15.0"
      ]
     },
     "execution_count": 19,
     "metadata": {},
     "output_type": "execute_result"
    }
   ],
   "source": [
    "10.0+5"
   ]
  },
  {
   "cell_type": "code",
   "execution_count": 21,
   "id": "1dcb6e45-a18d-455b-9ce8-e4f835384851",
   "metadata": {},
   "outputs": [
    {
     "data": {
      "text/plain": [
       "2"
      ]
     },
     "execution_count": 21,
     "metadata": {},
     "output_type": "execute_result"
    }
   ],
   "source": [
    "20%3\n"
   ]
  },
  {
   "cell_type": "code",
   "execution_count": 23,
   "id": "205c9adf-f1c3-4a67-ad53-8f2c8993f57c",
   "metadata": {},
   "outputs": [
    {
     "data": {
      "text/plain": [
       "8"
      ]
     },
     "execution_count": 23,
     "metadata": {},
     "output_type": "execute_result"
    }
   ],
   "source": [
    "# ** = exponenet\n",
    "2**3"
   ]
  },
  {
   "cell_type": "code",
   "execution_count": null,
   "id": "5f9cd0c8-cd3e-40bb-a856-a363dca4d4a3",
   "metadata": {},
   "outputs": [],
   "source": [
    "#priroties\n",
    "# **\n",
    "# * / // %\n",
    "# + -"
   ]
  },
  {
   "cell_type": "code",
   "execution_count": 25,
   "id": "9efb95f5-a86a-422d-a65e-035287659963",
   "metadata": {},
   "outputs": [
    {
     "name": "stdout",
     "output_type": "stream",
     "text": [
      "15\n"
     ]
    }
   ],
   "source": [
    "#assignmet opertaor\n",
    "x=10\n",
    "x=x+5 #x+=5\n",
    "print(x)"
   ]
  },
  {
   "cell_type": "code",
   "execution_count": 26,
   "id": "66141186-554a-42f8-89da-50c90794456e",
   "metadata": {},
   "outputs": [
    {
     "name": "stdout",
     "output_type": "stream",
     "text": [
      "2\n"
     ]
    }
   ],
   "source": [
    "x=5\n",
    "x%=3\n",
    "print(x)"
   ]
  },
  {
   "cell_type": "code",
   "execution_count": null,
   "id": "91b1c285-3737-40e8-a2e2-fb36300f6ada",
   "metadata": {},
   "outputs": [],
   "source": [
    "#comparison operator \n",
    ">  ,< , ==, <=,>=etc"
   ]
  },
  {
   "cell_type": "code",
   "execution_count": 28,
   "id": "53c1e6c5-d1c6-43c7-9388-2000fa4f51ad",
   "metadata": {},
   "outputs": [
    {
     "data": {
      "text/plain": [
       "True"
      ]
     },
     "execution_count": 28,
     "metadata": {},
     "output_type": "execute_result"
    }
   ],
   "source": [
    "#logical \n",
    "#and , or , not\n",
    "x=10\n",
    "y=19\n",
    "x==10 and y>18\n"
   ]
  },
  {
   "cell_type": "code",
   "execution_count": 29,
   "id": "86b30b3a-8701-449f-a732-595e0b0440bc",
   "metadata": {},
   "outputs": [
    {
     "data": {
      "text/plain": [
       "True"
      ]
     },
     "execution_count": 29,
     "metadata": {},
     "output_type": "execute_result"
    }
   ],
   "source": [
    "#membership and identity operator\n",
    "\"j\" in \"jaipur\""
   ]
  },
  {
   "cell_type": "code",
   "execution_count": 30,
   "id": "8321d30d-3097-4fc0-ad8a-3de2dcd79a22",
   "metadata": {},
   "outputs": [
    {
     "data": {
      "text/plain": [
       "True"
      ]
     },
     "execution_count": 30,
     "metadata": {},
     "output_type": "execute_result"
    }
   ],
   "source": [
    "#identity operator\n",
    "#varibale => data type\n",
    "#object belong to class\n",
    "x=10\n",
    "type(x) is int"
   ]
  },
  {
   "cell_type": "code",
   "execution_count": 32,
   "id": "dee2bcc5-6dc4-4afc-a6bd-da7e2ff816dd",
   "metadata": {},
   "outputs": [
    {
     "data": {
      "text/plain": [
       "False"
      ]
     },
     "execution_count": 32,
     "metadata": {},
     "output_type": "execute_result"
    }
   ],
   "source": [
    "x=\"abc\"\n",
    "type(x) is int\n"
   ]
  },
  {
   "cell_type": "code",
   "execution_count": 34,
   "id": "5357ae2e-48f3-4b3a-a252-c4695c5beaa5",
   "metadata": {},
   "outputs": [],
   "source": [
    "x=500\n",
    "y=500"
   ]
  },
  {
   "cell_type": "code",
   "execution_count": 35,
   "id": "8f5d9cf5-8070-46d1-a9c2-5bf29819858c",
   "metadata": {},
   "outputs": [
    {
     "data": {
      "text/plain": [
       "True"
      ]
     },
     "execution_count": 35,
     "metadata": {},
     "output_type": "execute_result"
    }
   ],
   "source": [
    "x==y"
   ]
  },
  {
   "cell_type": "code",
   "execution_count": 36,
   "id": "2c3cd839-d7bf-414f-8d61-931f4049f9f7",
   "metadata": {},
   "outputs": [
    {
     "name": "stdout",
     "output_type": "stream",
     "text": [
      "140713687443672\n",
      "140713687443672\n"
     ]
    }
   ],
   "source": [
    "x=250\n",
    "y=250\n",
    "print(id(x))\n",
    "print(id(y))\n"
   ]
  },
  {
   "cell_type": "code",
   "execution_count": 37,
   "id": "addd79b2-b4c9-488f-837f-d4f8a6664cc3",
   "metadata": {},
   "outputs": [
    {
     "name": "stdout",
     "output_type": "stream",
     "text": [
      "2004118670736\n",
      "2004118669424\n"
     ]
    }
   ],
   "source": [
    "x=259\n",
    "y=259\n",
    "print(id(x))\n",
    "print(id(y))\n"
   ]
  },
  {
   "cell_type": "code",
   "execution_count": 2,
   "id": "015dda86-c9e8-48ad-94e7-0b56b7861dbf",
   "metadata": {},
   "outputs": [
    {
     "name": "stdout",
     "output_type": "stream",
     "text": [
      "hey\n"
     ]
    }
   ],
   "source": [
    "#conditional statement\n",
    "''' \n",
    "if(condition):\n",
    "    statement\n",
    "'''\n",
    "x=12\n",
    "if(x==10):\n",
    "    print(\"hello\")\n",
    "elif(x==12):\n",
    "    print(\"hey\")\n",
    "else:\n",
    "    print(\"false\")\n",
    "    "
   ]
  },
  {
   "cell_type": "code",
   "execution_count": 4,
   "id": "6b900c80-7661-4b12-8d41-0dbbcf48af06",
   "metadata": {},
   "outputs": [
    {
     "name": "stdout",
     "output_type": "stream",
     "text": [
      " z is max\n"
     ]
    }
   ],
   "source": [
    "x=12\n",
    "y=13\n",
    "z=14\n",
    "if(x>y and x>z):\n",
    "    print(\"x is max\")\n",
    "elif(y>x and y>z):\n",
    "    print(\"y is max\")\n",
    "else :\n",
    "    print(\" z is max\")\n",
    "    "
   ]
  },
  {
   "cell_type": "code",
   "execution_count": 3,
   "id": "11dcada0-d62c-45eb-979b-840d337b2348",
   "metadata": {},
   "outputs": [
    {
     "name": "stdout",
     "output_type": "stream",
     "text": [
      "enter no : 80\n",
      "excellent\n"
     ]
    }
   ],
   "source": [
    "#take input from user and do following task\n",
    "'''\n",
    "if no is greater then 60 print average\n",
    "if the no id greater than 70 and less then 80 print good\n",
    "if the no is greater then 80 print excellent\n",
    "otherwise print \"BAD\"\n",
    "'''\n",
    "x=int(input(\"enter no : \"))\n",
    "if(x>=80):\n",
    "    print(\"excellent\")\n",
    "elif(x>=70 and x<80):\n",
    "    print(\"good\")\n",
    "elif(x>=60 and x<70):\n",
    "    print(\"average\")\n",
    "else:\n",
    "    print(\"bad\")\n",
    "    "
   ]
  },
  {
   "cell_type": "code",
   "execution_count": 9,
   "id": "3992464d-02cf-4d70-b4d5-da55c36ea463",
   "metadata": {},
   "outputs": [
    {
     "name": "stdout",
     "output_type": "stream",
     "text": [
      "Enter the number of Units : 100\n",
      "1600\n"
     ]
    }
   ],
   "source": [
    "'''\n",
    "Q1 user input for number of unit in intger\n",
    "  - for the starting 10 unit price is 50 rs each\n",
    "  - for the next 20 unit price is 20 rs each\n",
    "  - for the rest of unit price will be 10 rs\n",
    "    calculate the toatl price \n",
    "    for 100 unit \n",
    "'''\n",
    "def Calculate(units):\n",
    "    total_price = 0\n",
    "    if (units >= 10):\n",
    "        total_price += 10*50\n",
    "        units -= 10\n",
    "    else:\n",
    "        total_price += 10*units\n",
    "        units = 0\n",
    "    \n",
    "    if (units >= 20):\n",
    "        total_price += 20*20\n",
    "        units -= 20\n",
    "    else:\n",
    "        total_price += 20*units\n",
    "        units = 0\n",
    "    total_price += 10*units\n",
    "    return total_price\n",
    "units = int(input(\"Enter the number of Units : \"))\n",
    "print(Calculate(units))\n"
   ]
  },
  {
   "cell_type": "code",
   "execution_count": 23,
   "id": "3f1d0978",
   "metadata": {},
   "outputs": [
    {
     "ename": "SyntaxError",
     "evalue": "invalid syntax (3741552002.py, line 4)",
     "output_type": "error",
     "traceback": [
      "\u001b[1;36m  File \u001b[1;32m\"C:\\Users\\deepak\\AppData\\Local\\Temp\\ipykernel_10364\\3741552002.py\"\u001b[1;36m, line \u001b[1;32m4\u001b[0m\n\u001b[1;33m    if (a+b>c && b+c>a && c+a>b):\u001b[0m\n\u001b[1;37m               ^\u001b[0m\n\u001b[1;31mSyntaxError\u001b[0m\u001b[1;31m:\u001b[0m invalid syntax\n"
     ]
    }
   ],
   "source": [
    "'''Q2 take 3 number as the input from a user as 3 side of a triangle \n",
    "and check whether it will create a triangle or not '''\n",
    "def triangle(a,b,c):\n",
    "    if (a+b>c and b+c>a and c+a>b):\n",
    "        print(\"its makes a triangle\")\n",
    "    else:\n",
    "        print(\"it do not make a triangle\")\n",
    "a, b, c = [int(input(f\"Enter the side of triangle {side}\")) for side in ['a: ', 'b: ', 'c: ']]\n",
    "triangle(a,b,c)\n"
   ]
  },
  {
   "cell_type": "code",
   "execution_count": 26,
   "id": "fe61e392",
   "metadata": {},
   "outputs": [
    {
     "name": "stdout",
     "output_type": "stream",
     "text": [
      "Enter number 1 : 6\n",
      "Enter numebr 2 : 18\n",
      "6 and 18 are divisible by 6 \n"
     ]
    }
   ],
   "source": [
    "'''Q3 take 2 numbers from the user and check whether both the numbers are \n",
    "divisible by 6 \n",
    "(it should be divided by 2 and 3)'''\n",
    "\n",
    "def calculate(num1, num2):\n",
    "    if (num1%2==0 and num2%3==0):\n",
    "        print(f\"{num1} and {num2} are divisible by 6 \")\n",
    "    else:\n",
    "        print(\"not divisible\")\n",
    "        \n",
    "calculate(int(input(\"Enter number 1 : \")), int(input(\"Enter numebr 2 : \")))"
   ]
  },
  {
   "cell_type": "code",
   "execution_count": 31,
   "id": "56372e76",
   "metadata": {},
   "outputs": [
    {
     "name": "stdout",
     "output_type": "stream",
     "text": [
      "Enter a year: 2029\n",
      "not leap year\n"
     ]
    }
   ],
   "source": [
    "'''Q4 check for leap year'''\n",
    "def leap_year(year):\n",
    "    if (year%400==0 or year%100!=0 and year%4==0):\n",
    "        print(f\"{year} is a leap year\" )\n",
    "    else:\n",
    "        print(\"not leap year\")\n",
    "leap_year(int(input(\"Enter a year: \")))"
   ]
  },
  {
   "cell_type": "code",
   "execution_count": 1,
   "id": "a0e638f0",
   "metadata": {},
   "outputs": [
    {
     "name": "stdout",
     "output_type": "stream",
     "text": [
      "Enter your choice (1, 2, 3, 4): 1\n",
      "Current Date and Time: 2024-05-10 09:17:09.432999\n"
     ]
    }
   ],
   "source": [
    "'''\n",
    "Q5  if user gives input as 1 then \n",
    "    print date\n",
    "    if user gives input as 2 then \n",
    "    make folder\n",
    "    if user gives input as 3 then \n",
    "    make file at desktop\n",
    "    if user gives input as 4 then \n",
    "    shutdown window\n",
    "'''\n",
    "import os\n",
    "import datetime\n",
    "\n",
    "def print_current_datetime():\n",
    "    current_datetime = datetime.datetime.now()\n",
    "    print(\"Current Date and Time:\", current_datetime)\n",
    "\n",
    "def create_folder_on_desktop(folder_name):\n",
    "    desktop_path = os.path.join(os.path.expanduser('~'), 'Desktop')\n",
    "    folder_path = os.path.join(desktop_path, folder_name)\n",
    "    os.makedirs(folder_path)\n",
    "    print(\"Folder created successfully at:\", folder_path)\n",
    "\n",
    "def create_file_on_desktop(file_name):\n",
    "    desktop_path = os.path.join(os.path.expanduser('~'), 'Desktop')\n",
    "    file_path = os.path.join(desktop_path, file_name)\n",
    "    with open(file_path, 'w') as file:\n",
    "        file.write(\"This is a sample file created by the program.\")\n",
    "    print(\"File created successfully at:\", file_path)\n",
    "\n",
    "def shutdown_window():\n",
    "    os.system(\"shutdown /s /t 1\")\n",
    "    print(\"Shutting down the window...\")\n",
    "\n",
    "def main():\n",
    "    user_input = input(\"Enter your choice (1, 2, 3, 4): \")\n",
    "    \n",
    "    if user_input == '1':\n",
    "        print_current_datetime()\n",
    "    elif user_input == '2':\n",
    "        folder_name = input(\"Enter the folder name: \")\n",
    "        create_folder_on_desktop(folder_name)\n",
    "    elif user_input == '3':\n",
    "        file_name = input(\"Enter the file name: \")\n",
    "        create_file_on_desktop(file_name)\n",
    "    elif user_input == '4':\n",
    "        shutdown_window()\n",
    "    else:\n",
    "        print(\"Invalid input. Please enter 1, 2, 3, or 4.\")\n",
    "\n",
    "if __name__ == \"__main__\":\n",
    "    main()"
   ]
  }
 ],
 "metadata": {
  "kernelspec": {
   "display_name": "Python 3 (ipykernel)",
   "language": "python",
   "name": "python3"
  },
  "language_info": {
   "codemirror_mode": {
    "name": "ipython",
    "version": 3
   },
   "file_extension": ".py",
   "mimetype": "text/x-python",
   "name": "python",
   "nbconvert_exporter": "python",
   "pygments_lexer": "ipython3",
   "version": "3.9.13"
  }
 },
 "nbformat": 4,
 "nbformat_minor": 5
}
