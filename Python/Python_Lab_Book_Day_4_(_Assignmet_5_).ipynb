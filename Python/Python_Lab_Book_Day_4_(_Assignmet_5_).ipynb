{
 "cells": [
  {
   "cell_type": "code",
   "execution_count": 3,
   "id": "18559614",
   "metadata": {},
   "outputs": [
    {
     "name": "stdout",
     "output_type": "stream",
     "text": [
      "[69.8, 73.4, 64.4, 71.6, 66.2, 93.2, 75.2, 95.0]\n"
     ]
    }
   ],
   "source": [
    "# 1. Assume below list having temperature in Celsius convert in to Fahrenheit (use lambda function\n",
    "# with map function)\n",
    "# i. Amount = [21,23,18,22,19,34,24,35]\n",
    "\n",
    "amt = [21, 23, 18, 22, 19, 34, 24, 35]\n",
    "f=list(map(lambda b: (b * 9/5) + 32, amt))\n",
    "print(f)"
   ]
  },
  {
   "cell_type": "code",
   "execution_count": 8,
   "id": "2f85d185",
   "metadata": {},
   "outputs": [
    {
     "name": "stdout",
     "output_type": "stream",
     "text": [
      "[25, 28, 26, 27, 31, 28, 29, 30, 34, 32, 33, 35, 32, 37, 36, 40, 38, 39]\n"
     ]
    }
   ],
   "source": [
    "# 2. Remove the out of sequence number in below list (sequence is 25 to 40)\n",
    "# [25, 28,26,4000,27, 31, 5,28,29,30,34,8,32,33, 35, 32,37,36, 40,38,39, 95]\n",
    "n = [25, 28, 26, 4000, 27, 31, 5, 28, 29, 30, 34, 8, 32, 33, 35, 32, 37, 36, 40, 38, 39, 95]\n",
    "numbers = [num for num in n if 25 <= num <= 40]\n",
    "print(numbers)"
   ]
  },
  {
   "cell_type": "code",
   "execution_count": 9,
   "id": "18abeaa3",
   "metadata": {},
   "outputs": [
    {
     "name": "stdout",
     "output_type": "stream",
     "text": [
      "[3, 5, 2, 6, 8, 18, 44, 21, 4]\n"
     ]
    }
   ],
   "source": [
    "# 3. Remove duplicate elements in the list , don’t use “set” function write your own code\n",
    "# j. List = [3,5,2,6,8,3,18,5,3,44,21,4,18,2]\n",
    "def rem(lst):\n",
    "    u= []\n",
    "    for i in lst:\n",
    "        if i not in u:\n",
    "            u.append(i)\n",
    "    return u\n",
    "List = [3, 5, 2, 6, 8, 3, 18, 5, 3, 44, 21, 4, 18, 2]\n",
    "without_dup = rem(List)\n",
    "print(without_dup)\n"
   ]
  },
  {
   "cell_type": "code",
   "execution_count": 10,
   "id": "a0ce5101",
   "metadata": {},
   "outputs": [
    {
     "name": "stdout",
     "output_type": "stream",
     "text": [
      "[3, 5, 2, 6, 8, 18, 2, 7]\n"
     ]
    }
   ],
   "source": [
    "# 4. Program should add value to list, if the same number given again don’t add to list (don’t use set)\n",
    "def add(lst, value):\n",
    "    if value not in lst:\n",
    "        lst.append(value)\n",
    "List = [3, 5, 2, 6, 8, 18, 2]\n",
    "add(List, 7)  \n",
    "add(List, 3)  \n",
    "print(List)"
   ]
  },
  {
   "cell_type": "code",
   "execution_count": 13,
   "id": "ae023eb4",
   "metadata": {},
   "outputs": [
    {
     "name": "stdout",
     "output_type": "stream",
     "text": [
      "Enter a string: deed\n",
      "The string is a palindrome.\n"
     ]
    }
   ],
   "source": [
    "# 5. Write a program to find given string is Palindrome or Not (write a function pass the string to\n",
    "# function , and get return True if string is Palindrome, return False if string is not Palindrome )\n",
    "def is_pal(s):\n",
    "    s = s.replace(\" \", \"\").lower()\n",
    "    return s == s[::-1]\n",
    "def main():\n",
    "    s= input(\"Enter a string: \")\n",
    "    if is_pal(s):\n",
    "        print(\"The string is a palindrome.\")\n",
    "    else:\n",
    "        print(\"The string is not a palindrome.\")\n",
    "\n",
    "main()"
   ]
  },
  {
   "cell_type": "code",
   "execution_count": 14,
   "id": "8db41db6",
   "metadata": {},
   "outputs": [
    {
     "name": "stdout",
     "output_type": "stream",
     "text": [
      "MAC Addresses found:\n",
      "('81-', '0A')\n"
     ]
    }
   ],
   "source": [
    "# 6. Write the python program for find the line contains MAC address in the given multiline string\n",
    "# %DAEMON-3-SNMPD_TRAP_WARM_START: trap_generate_warm: SNMP 0E-2B-56-1C-89-\n",
    "\n",
    "# 0 trap: warm start\n",
    "# Feb 22 20:35:07 router1 snmpd[359]:\n",
    "# %DAEMON-6-SNMPD_THROTTLE_QUEUE_DRAINED: trap_throttle_timer_handler: cleared all\n",
    "# throttled traps\n",
    "# Feb 23 07:34:56 3C-21-5A-14-81-0A router1 snmpd[359]: %DAEMON-3-\n",
    "# SNMPD_TRAP_WARM_START: trap_generate_warm: SNMP trap: warm start\n",
    "# Feb 23 07:38:19 router1 snmpd[359]: %DAEMON-2-SNMPD_TRAP_COLD_START:\n",
    "# trap_generate_cold: SNMP trap: cold start\n",
    "\n",
    "import re\n",
    "\n",
    "def find_mac_addresses(multiline_string):\n",
    "    mac_pattern = r\"([0-9A-Fa-f]{2}[:-]){5}([0-9A-Fa-f]{2})\"\n",
    "    mac_addresses = re.findall(mac_pattern, multiline_string)\n",
    "    return mac_addresses\n",
    "\n",
    "multiline_text = \"\"\"\n",
    "%DAEMON-3-SNMPD_TRAP_WARM_START: trap_generate_warm: SNMP 0E-2B-56-1C-89-\n",
    "0 trap: warm start\n",
    "Feb 22 20:35:07 router1 snmpd[359]:\n",
    "%DAEMON-6-SNMPD_THROTTLE_QUEUE_DRAINED: trap_throttle_timer_handler: cleared all\n",
    "throttled traps\n",
    "Feb 23 07:34:56 3C-21-5A-14-81-0A router1 snmpd[359]: %DAEMON-3-\n",
    "SNMPD_TRAP_WARM_START: trap_generate_warm: SNMP trap: warm start\n",
    "Feb 23 07:38:19 router1 snmpd[359]: %DAEMON-2-SNMPD_TRAP_COLD_START:\n",
    "trap_generate_cold: SNMP trap: cold start\n",
    "\"\"\"\n",
    "\n",
    "mac_addresses_found = find_mac_addresses(multiline_text)\n",
    "print(\"MAC Addresses found:\")\n",
    "for mac in mac_addresses_found:\n",
    "    print(mac)\n"
   ]
  },
  {
   "cell_type": "code",
   "execution_count": 15,
   "id": "f316a99c",
   "metadata": {},
   "outputs": [
    {
     "name": "stdout",
     "output_type": "stream",
     "text": [
      "IP Addresses found:\n",
      "253.67.34.9\n",
      "10.145.78.2\n"
     ]
    }
   ],
   "source": [
    "# 7. Write the python program for find the line contains IP address in the given multiline string\n",
    "# %DAEMON-3-SNMPD_TRAP_WARM_START: trap_generate_warm: 253.67.34.9\n",
    "# SNMP\n",
    "# trap: warm start\n",
    "# Feb 22 20:35:07 router1 snmpd[359]: %DAEMON-6-\n",
    "# SNMPD_THROTTLE_QUEUE_DRAINED: trap_throttle_timer_handler: cleared\n",
    "# all\n",
    "# throttled traps\n",
    "# Feb 23 07:34:56 router1 snmpd[359]: %DAEMON-3-SNMPD_TRAP_WARM_START:\n",
    "# trap_generate_warm: 10.145.78.2 SNMP trap: warm\n",
    "# start\n",
    "# Feb 23 07:38:19 router1 snmpd[359]: %DAEMON-2-SNMPD_TRAP_COLD_START:\n",
    "# trap_generate_cold: SNMP trap: cold start\n",
    "\n",
    "import re\n",
    "\n",
    "def find_ip_addresses(multiline_string):\n",
    "    # Regular expression pattern for IP addresses\n",
    "    ip_pattern = r\"\\b(?:\\d{1,3}\\.){3}\\d{1,3}\\b\"\n",
    "\n",
    "    # Find all occurrences of IP addresses in the multiline string\n",
    "    ip_addresses = re.findall(ip_pattern, multiline_string)\n",
    "\n",
    "    return ip_addresses\n",
    "\n",
    "multiline_text = \"\"\"\n",
    "%DAEMON-3-SNMPD_TRAP_WARM_START: trap_generate_warm: 253.67.34.9\n",
    "SNMP\n",
    "trap: warm start\n",
    "Feb 22 20:35:07 router1 snmpd[359]: %DAEMON-6-\n",
    "SNMPD_THROTTLE_QUEUE_DRAINED: trap_throttle_timer_handler: cleared\n",
    "all\n",
    "throttled traps\n",
    "Feb 23 07:34:56 router1 snmpd[359]: %DAEMON-3-SNMPD_TRAP_WARM_START:\n",
    "trap_generate_warm: 10.145.78.2 SNMP trap: warm\n",
    "start\n",
    "Feb 23 07:38:19 router1 snmpd[359]: %DAEMON-2-SNMPD_TRAP_COLD_START:\n",
    "trap_generate_cold: SNMP trap: cold start\n",
    "\"\"\"\n",
    "\n",
    "ip_addresses_found = find_ip_addresses(multiline_text)\n",
    "print(\"IP Addresses found:\")\n",
    "for ip in ip_addresses_found:\n",
    "    print(ip)"
   ]
  }
 ],
 "metadata": {
  "kernelspec": {
   "display_name": "Python 3 (ipykernel)",
   "language": "python",
   "name": "python3"
  },
  "language_info": {
   "codemirror_mode": {
    "name": "ipython",
    "version": 3
   },
   "file_extension": ".py",
   "mimetype": "text/x-python",
   "name": "python",
   "nbconvert_exporter": "python",
   "pygments_lexer": "ipython3",
   "version": "3.9.13"
  }
 },
 "nbformat": 4,
 "nbformat_minor": 5
}
