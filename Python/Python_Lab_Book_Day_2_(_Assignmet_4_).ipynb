{
 "cells": [
  {
   "cell_type": "markdown",
   "id": "f29c40bd",
   "metadata": {},
   "source": [
    "## Day 2"
   ]
  },
  {
   "cell_type": "code",
   "execution_count": 4,
   "id": "29d5a171",
   "metadata": {},
   "outputs": [
    {
     "name": "stdout",
     "output_type": "stream",
     "text": [
      "Enter a number repetation : 2\n",
      "Enter a string : deepak \n",
      "deepak deepak \n"
     ]
    }
   ],
   "source": [
    "'''1. Define a function generate_n_chars() that takes an integer n and a character c and returns a string, n\n",
    "characters long, consisting only of c:s. For example, generate_n_chars(5,\"x\") should return the string\n",
    "\"xxxxx\". (Python is unusual in that you can actually write an expression 5 * \"x\" that will evaluate to\n",
    "\"xxxxx\". For the sake of the exercise you should ignore that the problem can be solved in this\n",
    "manner.)''' \n",
    "\n",
    "def generate_n_chars(integer, character):\n",
    "        print(character*integer)\n",
    "generate_n_chars(int(input(\"Enter a number repetation : \")), input(\"Enter a string : \"))"
   ]
  },
  {
   "cell_type": "code",
   "execution_count": 15,
   "id": "d3f97c0e",
   "metadata": {},
   "outputs": [
    {
     "name": "stdout",
     "output_type": "stream",
     "text": [
      "Maximum number :  55\n"
     ]
    }
   ],
   "source": [
    "'''2. The function max() from exercise 1) and the function max_of_three() from exercise 2) will only\n",
    "work for two and three numbers, respectively. But suppose we have a much larger number of\n",
    "numbers, or suppose we cannot tell in advance how many they are? Write a function max_in_list()\n",
    "that takes a list of numbers and returns the largest one.\n",
    "'''\n",
    "List = [5, 8,4,18,8,55,6,8,3,18,5,3,44,]\n",
    "def maximum(List):\n",
    "    Max = 0\n",
    "    for item in List:\n",
    "        if Max<item:\n",
    "            Max = item\n",
    "    return Max\n",
    "print(\"Maximum number : \", maximum(List))"
   ]
  },
  {
   "cell_type": "code",
   "execution_count": 16,
   "id": "864dd265",
   "metadata": {},
   "outputs": [
    {
     "name": "stdout",
     "output_type": "stream",
     "text": [
      "[5, 1, 2, 6]\n"
     ]
    }
   ],
   "source": [
    "'''3. Write a program that maps a list of words into a list of integers representing the lengths of the\n",
    "correponding words.\n",
    "'''\n",
    "string = ['hello', 'i', 'am', 'deepak']\n",
    "lengths = [len(word) for word in string]\n",
    "print(lengths)\n"
   ]
  },
  {
   "cell_type": "code",
   "execution_count": 17,
   "id": "820d3eb7",
   "metadata": {},
   "outputs": [
    {
     "name": "stdout",
     "output_type": "stream",
     "text": [
      "14\n"
     ]
    }
   ],
   "source": [
    "'''4. Write a function find_longest_word() that takes a list of words and returns the length of the longest\n",
    "one. Modify the same to do with lambda expression.\n",
    "'''\n",
    "def find_longest_word(anylist):\n",
    "    longest = 0\n",
    "    for word in anylist:\n",
    "        if len(word) > longest:\n",
    "            longest = len(word)\n",
    "    return longest\n",
    "\n",
    "mylist = ['four', 'apple', 'photosynthesis']\n",
    "print(find_longest_word(mylist))\n"
   ]
  },
  {
   "cell_type": "code",
   "execution_count": 18,
   "id": "cf1f9ca7",
   "metadata": {},
   "outputs": [
    {
     "name": "stdout",
     "output_type": "stream",
     "text": [
      "14\n"
     ]
    }
   ],
   "source": [
    "find_longest_word = lambda anylist: max(len(word) for word in anylist)\n",
    "\n",
    "mylist = ['four', 'apple', 'photosynthesis']\n",
    "print(find_longest_word(mylist))\n"
   ]
  },
  {
   "cell_type": "code",
   "execution_count": 28,
   "id": "c11363c4",
   "metadata": {},
   "outputs": [
    {
     "data": {
      "text/plain": [
       "['apple', 'photosynthesis']"
      ]
     },
     "execution_count": 28,
     "metadata": {},
     "output_type": "execute_result"
    }
   ],
   "source": [
    "'''5. Write a function filter_long_words() that takes a list of words and an integer n and returns the list\n",
    "of words that are longer than n. Modify the same to do with lambda expression.\n",
    "'''\n",
    "mylist = ['four', 'apple', 'photosynthesis']\n",
    "def filter_long_words(List, n):\n",
    "    new = []\n",
    "    for item in List:\n",
    "        if len(item)>n:\n",
    "            new.append(item)\n",
    "    return new\n",
    "filter_long_words(mylist, 4)"
   ]
  },
  {
   "cell_type": "code",
   "execution_count": 27,
   "id": "8e99229b",
   "metadata": {},
   "outputs": [
    {
     "name": "stdout",
     "output_type": "stream",
     "text": [
      "['apple', 'photosynthesis']\n"
     ]
    }
   ],
   "source": [
    "filter_long_words = lambda List, n: list(filter(lambda x: len(x) > n, List))\n",
    "\n",
    "print(filter_long_words(mylist,4))"
   ]
  },
  {
   "cell_type": "code",
   "execution_count": 51,
   "id": "9b6280c2",
   "metadata": {},
   "outputs": [
    {
     "name": "stdout",
     "output_type": "stream",
     "text": [
      "Palindrome\n",
      " reverse is : gohangasalamiimalasagnahog\n",
      "Palindrome\n",
      " reverse is : wasitaratisaw\n",
      "Palindrome\n",
      " reverse is : steponnopets\n",
      "Palindrome\n",
      " reverse is : sitonapotatopanotis\n",
      "Palindrome\n",
      " reverse is : lisabonetatenobasil\n",
      "Palindrome\n",
      " reverse is : satanoscillatemymetallicsonatas\n",
      "Palindrome\n",
      " reverse is : iroamedunderitasatirednudemaori\n",
      "Palindrome\n",
      " reverse is : risetovotesir\n",
      "Palindrome\n",
      " reverse is : dammitimmad\n"
     ]
    }
   ],
   "source": [
    "'''6. Write a version of a palindrome recognizer that also accepts phrase palindromes such as \"Go hang a\n",
    "salami I'm a lasagna hog.\", \"Was it a rat I saw?\", \"Step on no pets\", \"Sit on a potato pan, Otis\", \"Lisa\n",
    "Bonet ate no basil\", \"Satan, oscillate my metallic sonatas\", \"I roamed under it as a tired nude Maori\",\n",
    "\"Rise to vote sir\", or the exclamation \"Dammit, I'm mad!\". Note that punctuation, capitalization, and\n",
    "spacing are usually ignored.\n",
    "'''\n",
    "import re\n",
    "phrases = [\n",
    "    \"Go hang a salami I'm a lasagna hog.\",\n",
    "    \"Was it a rat I saw?\",\n",
    "    \"Step on no pets\",\n",
    "    \"Sit on a potato pan, Otis\",\n",
    "    \"Lisa Bonet ate no basil\",\n",
    "    \"Satan, oscillate my metallic sonatas\",\n",
    "    \"I roamed under it as a tired nude Maori\",\n",
    "    \"Rise to vote sir\",\n",
    "    \"Dammit, I'm mad!\"\n",
    "]\n",
    "for phrase in phrases:\n",
    "    perfect = re.sub(r'[^a-zA-Z]', '', phrase).lower()\n",
    "    rev = perfect[::-1]\n",
    "    if rev == perfect:\n",
    "        print(f\"Palindrome\\n reverse is : {rev}\")\n",
    "    else: \n",
    "        print(\"Not palindrome\")\n",
    "\n"
   ]
  },
  {
   "cell_type": "code",
   "execution_count": 9,
   "id": "248be1c4",
   "metadata": {},
   "outputs": [
    {
     "name": "stdout",
     "output_type": "stream",
     "text": [
      "True\n",
      "False\n"
     ]
    }
   ],
   "source": [
    "'''7. A pangram is a sentence that contains all the letters of the English alphabet at least once, for\n",
    "example: The quick brown fox jumps over the lazy dog. Your task here is to write a function to check\n",
    "a sentence to see if it is a pangram or not.\n",
    "'''\n",
    "\n",
    "def is_pangram(sentence):\n",
    "    sentence = sentence.lower()\n",
    "    unique_letters = set()\n",
    "    for char in sentence:\n",
    "        if char.isalpha():\n",
    "            unique_letters.add(char)\n",
    "    return len(unique_letters) == 26\n",
    "sentence1 = \"The quick brown fox jumps over the lazy dog.\"\n",
    "sentence2 = \"Hello, world!\"\n",
    "print(is_pangram(sentence1))\n",
    "print(is_pangram(sentence2))"
   ]
  },
  {
   "cell_type": "code",
   "execution_count": 10,
   "id": "d473056b",
   "metadata": {},
   "outputs": [
    {
     "name": "stdout",
     "output_type": "stream",
     "text": [
      "English Cards:\n",
      "['Merry', 'Christmas', 'and', 'Happy', 'New', 'Year']\n",
      "\n",
      "Swedish Translations:\n",
      "['god', 'jul', 'och', 'gott', 'nytt', 'år']\n"
     ]
    }
   ],
   "source": [
    "'''8. Represent a small bilingual lexicon as a Python dictionary in the following fashion {\"merry\":\"god\",\n",
    "\"christmas\":\"jul\", \"and\":\"och\", \"happy\":gott\", \"new\":\"nytt\", \"year\":\"år\"} and use it to translate your\n",
    "Christmas cards from English into Swedish. That is, write a function translate() that takes a list of\n",
    "English words and returns a list of Swedish words.\n",
    "'''\n",
    "\n",
    "def translate(english_words):\n",
    "    lexicon = {\n",
    "                \"merry\": \"god\",\n",
    "                \"christmas\": \"jul\",\n",
    "                \"and\": \"och\",\n",
    "                \"happy\": \"gott\",\n",
    "                \"new\": \"nytt\",\n",
    "                \"year\": \"år\"\n",
    "                }\n",
    "    swedish_words = [lexicon.get(word.lower(), word) for word in english_words]\n",
    "    return swedish_words\n",
    "\n",
    "english_cards = [\"Merry\", \"Christmas\", \"and\", \"Happy\", \"New\", \"Year\"]\n",
    "swedish_translations = translate(english_cards)\n",
    "\n",
    "print(\"English Cards:\")\n",
    "print(english_cards)\n",
    "\n",
    "print(\"\\nSwedish Translations:\")\n",
    "print(swedish_translations)\n"
   ]
  },
  {
   "cell_type": "code",
   "execution_count": 11,
   "id": "284fc2a3",
   "metadata": {},
   "outputs": [
    {
     "name": "stdout",
     "output_type": "stream",
     "text": [
      "Character Frequency Listing:\n",
      "'a': 7\n",
      "'b': 14\n",
      "'c': 3\n",
      "'d': 3\n"
     ]
    }
   ],
   "source": [
    "'''9. Write a function char_freq() that takes a string and builds a frequency listing of the characters\n",
    "contained in it. Represent the frequency listing as a Python dictionary. Try it with something\n",
    "likechar_freq(\"abbabcbdbabdbdbabababcbcbab\").\n",
    "'''\n",
    "def char_freq(input_string):\n",
    "    freq_dict = {}\n",
    "    for char in input_string:\n",
    "        freq_dict[char] = freq_dict.get(char, 0) + 1\n",
    "    \n",
    "    return freq_dict\n",
    "input_str = \"abbabcbdbabdbdbabababcbcbab\"\n",
    "frequency_listing = char_freq(input_str)\n",
    "\n",
    "print(\"Character Frequency Listing:\")\n",
    "for char, count in frequency_listing.items():\n",
    "    print(f\"'{char}': {count}\")\n",
    "\n"
   ]
  },
  {
   "cell_type": "code",
   "execution_count": 24,
   "id": "b5db99b4",
   "metadata": {},
   "outputs": [
    {
     "name": "stdout",
     "output_type": "stream",
     "text": [
      "Addition: 10\n",
      "Subtraction: 5\n",
      "Maximum Value: 12\n",
      "Sorted Values: [2, 4, 7, 9]\n"
     ]
    }
   ],
   "source": [
    "'''10. Create a module called mathematics.py and provide subroutines (should be defined generally and\n",
    "should work for any number of arguments) such as:\n",
    "Add Sub\n",
    "Sort the values Max Sort\n",
    "'''\n",
    "\n",
    "from mathematics import add, sub, max_value, custom_sort\n",
    "\n",
    "print(\"Addition:\", add(1, 2, 3, 4))\n",
    "print(\"Subtraction:\", sub(10, 2, 3))\n",
    "print(\"Maximum Value:\", max_value(5, 8, 3, 12))\n",
    "print(\"Sorted Values:\", custom_sort(9, 2, 7, 4))\n",
    "\n"
   ]
  },
  {
   "cell_type": "code",
   "execution_count": 1,
   "id": "e50d15fd",
   "metadata": {},
   "outputs": [
    {
     "name": "stdout",
     "output_type": "stream",
     "text": [
      "Array a: [10, 20, 30, 40]\n",
      "Array b: [5, 15, 25, 35]\n",
      "Resultant array c (addition): [15, 35, 55, 75]\n",
      "Resultant array d (subtraction): [5, 5, 5, 5]\n",
      "Minimum value in c: 15, Maximum value in c: 75\n",
      "Minimum value in d: 5, Maximum value in d: 5\n",
      "Sorted array c: [15, 35, 55, 75]\n",
      "Sorted array d: [5, 5, 5, 5]\n"
     ]
    }
   ],
   "source": [
    "'''11.\n",
    "Use the module in a program and apply the functions on two array variables (say a and b) to:\n",
    "Add two arrays (and store it in c) Subtract two arrays(and store it in d)\n",
    "Find the minimum and maximum value of the resultant array (c or d) Sort the resultant array(c or d) \n",
    "'''\n",
    "# from mathematics import add, sub, max_value, custom_sort, min_value\n",
    "from mathematics import add, sub, max_value, min_value, custom_sort\n",
    "\n",
    "a = [10, 20, 30, 40]\n",
    "b = [5, 15, 25, 35]\n",
    "\n",
    "c = [add(x, y) for x, y in zip(a, b)]\n",
    "\n",
    "d = [sub(x, y) for x, y in zip(a, b)]\n",
    "\n",
    "min_c = min_value(*c)\n",
    "max_c = max_value(*c)\n",
    "min_d = min_value(*d)\n",
    "max_d = max_value(*d)\n",
    "\n",
    "sorted_c = custom_sort(*c)\n",
    "sorted_d = custom_sort(*d)\n",
    "\n",
    "print(\"Array a:\", a)\n",
    "print(\"Array b:\", b)\n",
    "print(\"Resultant array c (addition):\", c)\n",
    "print(\"Resultant array d (subtraction):\", d)\n",
    "print(f\"Minimum value in c: {min_c}, Maximum value in c: {max_c}\")\n",
    "print(f\"Minimum value in d: {min_d}, Maximum value in d: {max_d}\")\n",
    "print(\"Sorted array c:\", sorted_c)\n",
    "print(\"Sorted array d:\", sorted_d)\n"
   ]
  },
  {
   "cell_type": "code",
   "execution_count": 2,
   "id": "e6fe6ce3",
   "metadata": {},
   "outputs": [
    {
     "name": "stdout",
     "output_type": "stream",
     "text": [
      "Array a: [10, 20, 30, 40]\n",
      "Array b: [5, 15, 25, 35]\n",
      "Resultant array c (addition): [15, 35, 55, 75]\n",
      "Resultant array d (subtraction): [5, 5, 5, 5]\n",
      "Minimum value in c: 15, Maximum value in c: 75\n",
      "Minimum value in d: 5, Maximum value in d: 5\n",
      "Sorted array c: [15, 35, 55, 75]\n",
      "Sorted array d: [5, 5, 5, 5]\n"
     ]
    }
   ],
   "source": [
    "'''12. Try above programme with package.\n",
    "'''\n",
    "from my_math.mathematics import add, sub, max_value, min_value, custom_sort\n",
    "\n",
    "a = [10, 20, 30, 40]\n",
    "b = [5, 15, 25, 35]\n",
    "\n",
    "c = [add(x, y) for x, y in zip(a, b)]\n",
    "\n",
    "d = [sub(x, y) for x, y in zip(a, b)]\n",
    "\n",
    "min_c = min_value(*c)\n",
    "max_c = max_value(*c)\n",
    "min_d = min_value(*d)\n",
    "max_d = max_value(*d)\n",
    "\n",
    "sorted_c = custom_sort(*c)\n",
    "sorted_d = custom_sort(*d)\n",
    "\n",
    "print(\"Array a:\", a)\n",
    "print(\"Array b:\", b)\n",
    "print(\"Resultant array c (addition):\", c)\n",
    "print(\"Resultant array d (subtraction):\", d)\n",
    "print(f\"Minimum value in c: {min_c}, Maximum value in c: {max_c}\")\n",
    "print(f\"Minimum value in d: {min_d}, Maximum value in d: {max_d}\")\n",
    "print(\"Sorted array c:\", sorted_c)\n",
    "print(\"Sorted array d:\", sorted_d)\n"
   ]
  }
 ],
 "metadata": {
  "kernelspec": {
   "display_name": "Python 3 (ipykernel)",
   "language": "python",
   "name": "python3"
  },
  "language_info": {
   "codemirror_mode": {
    "name": "ipython",
    "version": 3
   },
   "file_extension": ".py",
   "mimetype": "text/x-python",
   "name": "python",
   "nbconvert_exporter": "python",
   "pygments_lexer": "ipython3",
   "version": "3.9.13"
  }
 },
 "nbformat": 4,
 "nbformat_minor": 5
}
