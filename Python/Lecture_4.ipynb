{
 "cells": [
  {
   "cell_type": "code",
   "execution_count": 1,
   "id": "9bf1960f",
   "metadata": {},
   "outputs": [],
   "source": [
    "#homework\n",
    "\n",
    "#take input from user let day =10\n",
    "# in first week intial amount is 1 then 2 then 3 and upto 7 for a week\n",
    "# in second week intial amount is 2 then 3 then 4 and upto 8 for this week\n",
    "\n",
    "day =10\n",
    "amt=0\n",
    "week = 1"
   ]
  },
  {
   "cell_type": "code",
   "execution_count": 9,
   "id": "32dbd2ce",
   "metadata": {},
   "outputs": [
    {
     "name": "stdout",
     "output_type": "stream",
     "text": [
      "i : 1\n",
      "64\n",
      "i : 2\n",
      "66\n",
      "i : 3\n",
      "69\n",
      "i : 4\n",
      "73\n",
      "i : 5\n",
      "78\n",
      "i : 6\n",
      "84\n",
      "i : 7\n",
      "91\n",
      "91\n"
     ]
    }
   ],
   "source": [
    "for i in range(week,8):\n",
    "    print(f\"i : {i}\")\n",
    "    amt+=i\n",
    "    print(amt)\n",
    "print(amt)"
   ]
  },
  {
   "cell_type": "markdown",
   "id": "4004f339",
   "metadata": {},
   "source": [
    "## Functions"
   ]
  },
  {
   "cell_type": "code",
   "execution_count": null,
   "id": "eeb16a68",
   "metadata": {},
   "outputs": [],
   "source": [
    "# a block of code which can be reuse\n"
   ]
  },
  {
   "cell_type": "code",
   "execution_count": 18,
   "id": "9a7110e4",
   "metadata": {},
   "outputs": [
    {
     "name": "stdout",
     "output_type": "stream",
     "text": [
      "hello\n"
     ]
    }
   ],
   "source": [
    "def msg():\n",
    "    print(\"hello\")\n",
    "msg()"
   ]
  },
  {
   "cell_type": "code",
   "execution_count": 20,
   "id": "17125dd1",
   "metadata": {},
   "outputs": [
    {
     "name": "stdout",
     "output_type": "stream",
     "text": [
      "hello deepak\n"
     ]
    }
   ],
   "source": [
    "#passing a parameter in func\n",
    "def msg(name):\n",
    "    print(f\"hello {name}\")\n",
    "\n",
    "#passing argument in a func\n",
    "msg(\"deepak\")"
   ]
  },
  {
   "cell_type": "code",
   "execution_count": 23,
   "id": "9de87564",
   "metadata": {},
   "outputs": [
    {
     "name": "stdout",
     "output_type": "stream",
     "text": [
      "Before func : 10\n",
      "Before func : 10\n"
     ]
    }
   ],
   "source": [
    "# int is immutable\n",
    "def func(x):\n",
    "    x=x+5\n",
    "x=10\n",
    "print(\"Before func :\",x)\n",
    "func(x)\n",
    "print(\"Before func :\",x)"
   ]
  },
  {
   "cell_type": "code",
   "execution_count": 31,
   "id": "5a259bed",
   "metadata": {},
   "outputs": [
    {
     "name": "stdout",
     "output_type": "stream",
     "text": [
      "mylist :  [10, 20] 2369213827264\n",
      "[30, 20] 2369213827264\n",
      "[30, 20]\n"
     ]
    }
   ],
   "source": [
    "# list is mutable\n",
    "def func(x):\n",
    "    x[0]=30\n",
    "    print(x, id(x))\n",
    "mylist = [10,20]\n",
    "print(\"mylist : \",mylist,id(mylist))\n",
    "func(mylist)\n",
    "print(mylist)\n"
   ]
  },
  {
   "cell_type": "code",
   "execution_count": 35,
   "id": "5ea2b045",
   "metadata": {},
   "outputs": [
    {
     "name": "stdout",
     "output_type": "stream",
     "text": [
      "avg\n",
      "good\n",
      "excellent\n"
     ]
    }
   ],
   "source": [
    "# make a func which take 3 parameters if first para is greater return Excellent if second is the good else avg\n",
    "def grades(a,b,c):\n",
    "    if (a>b and a>c):\n",
    "        return \"excellent\"\n",
    "    elif (b>a and b>c):\n",
    "        return \"good\"\n",
    "    else:\n",
    "        return \"avg\"\n",
    "    \n",
    "print(grades(1,2,3))\n",
    "print(grades(2,3,1))\n",
    "print(grades(3,2,1))"
   ]
  },
  {
   "cell_type": "code",
   "execution_count": 46,
   "id": "c3e5caed",
   "metadata": {},
   "outputs": [
    {
     "name": "stdout",
     "output_type": "stream",
     "text": [
      "9\n",
      "lcm is : 18\n"
     ]
    }
   ],
   "source": [
    "#func should return lcm of two number\n",
    "\n",
    "def greater(a,b):\n",
    "    if(a>b):\n",
    "        return a\n",
    "    else:\n",
    "        return b\n",
    "def lcm(a,b):\n",
    "    org = greater(a,b)\n",
    "    print(org)\n",
    "    while(True):\n",
    "        if (org%a==0 and org%b==0):\n",
    "            print(\"lcm is :\", org)\n",
    "            return\n",
    "        else:\n",
    "            org+=1 \n",
    "lcm(2,9)"
   ]
  },
  {
   "cell_type": "markdown",
   "id": "712a0251",
   "metadata": {},
   "source": [
    "## Type of argument"
   ]
  },
  {
   "cell_type": "code",
   "execution_count": 54,
   "id": "76009762",
   "metadata": {},
   "outputs": [
    {
     "name": "stdout",
     "output_type": "stream",
     "text": [
      "eid is : 34 \n",
      "ename is : deepak\n",
      "email is : dkumarsing7@gmail.com\n"
     ]
    }
   ],
   "source": [
    "#positional argument\n",
    "\n",
    "def employee(eid,ename,email):\n",
    "    print(f\"eid is : {eid} \\nename is : {ename}\\nemail is : {email}\")\n",
    "\n",
    "# employee()\n",
    "# employee(\"kishan\", \"kishan@gmail.com\")\n",
    "\n",
    "employee(34, \"deepak\", \"dkumarsing7@gmail.com\")"
   ]
  },
  {
   "cell_type": "code",
   "execution_count": 60,
   "id": "4f5e3f03",
   "metadata": {},
   "outputs": [
    {
     "name": "stdout",
     "output_type": "stream",
     "text": [
      "eid is : 34 \n",
      "ename is : deepak\n",
      "email is : dkumarsing7@gmail.com\n"
     ]
    }
   ],
   "source": [
    "# keyword argument\n",
    "def employee(eid,ename,email):\n",
    "    print(f\"eid is : {eid} \\nename is : {ename}\\nemail is : {email}\")\n",
    "\n",
    "employee(email= \"dkumarsing7@gmail.com\", eid = 34, ename = \"deepak\")\n"
   ]
  },
  {
   "cell_type": "code",
   "execution_count": 63,
   "id": "de5d26b2",
   "metadata": {},
   "outputs": [
    {
     "name": "stdout",
     "output_type": "stream",
     "text": [
      "eid is : 34 \n",
      "ename is : deepak\n",
      "email is : dkumarsing7@gmail.com\n"
     ]
    }
   ],
   "source": [
    "# default argument\n",
    "def employee(eid,ename,email=\"dkumarsing7@gmail.com\"):\n",
    "    print(f\"eid is : {eid} \\nename is : {ename}\\nemail is : {email}\")\n",
    "\n",
    "employee(34, \"deepak\")\n"
   ]
  },
  {
   "cell_type": "code",
   "execution_count": 69,
   "id": "cd28138a",
   "metadata": {},
   "outputs": [
    {
     "name": "stdout",
     "output_type": "stream",
     "text": [
      "() <class 'tuple'>\n",
      "(3, 345, 4545) <class 'tuple'>\n"
     ]
    }
   ],
   "source": [
    "#variable Length argumennt (args)\n",
    "def facebook(*data):\n",
    "    print(data,type(data))\n",
    "facebook()\n",
    "facebook(3,345,4545)"
   ]
  },
  {
   "cell_type": "code",
   "execution_count": 73,
   "id": "b9f22a8d",
   "metadata": {},
   "outputs": [
    {
     "name": "stdout",
     "output_type": "stream",
     "text": [
      "{} <class 'dict'>\n",
      "{'username': 'deepak', 'salary': 30000} <class 'dict'>\n",
      "{'salary': 30000, 'username': 'deepak'} <class 'dict'>\n"
     ]
    }
   ],
   "source": [
    "#keyword variable Length argumennt (kwargs)\n",
    "def facebook(**data):\n",
    "    print(data,type(data))\n",
    "facebook()\n",
    "facebook(username = \"deepak\", salary = 30000)\n",
    "facebook(salary = 30000, username = \"deepak\")"
   ]
  },
  {
   "cell_type": "code",
   "execution_count": null,
   "id": "4abea3c0",
   "metadata": {},
   "outputs": [],
   "source": []
  },
  {
   "cell_type": "code",
   "execution_count": 74,
   "id": "c8125663",
   "metadata": {},
   "outputs": [
    {
     "name": "stdout",
     "output_type": "stream",
     "text": [
      "<function func at 0x00000227A23C63A0>\n",
      "<function func at 0x00000227A23C63A0>\n",
      "hello\n"
     ]
    }
   ],
   "source": [
    "def func():\n",
    "    print(\"hello\")\n",
    "\n",
    "x=func\n",
    "print(func)\n",
    "print(x)\n",
    "x()"
   ]
  },
  {
   "cell_type": "markdown",
   "id": "bc1dd86e",
   "metadata": {},
   "source": [
    "## high order function"
   ]
  },
  {
   "cell_type": "code",
   "execution_count": null,
   "id": "db6e2c02",
   "metadata": {},
   "outputs": [],
   "source": [
    "#which take another function as an argument"
   ]
  },
  {
   "cell_type": "code",
   "execution_count": 82,
   "id": "90670ecf",
   "metadata": {},
   "outputs": [
    {
     "name": "stdout",
     "output_type": "stream",
     "text": [
      "2 9\n"
     ]
    }
   ],
   "source": [
    "def square(x):\n",
    "    return x*x\n",
    "\n",
    "def addno(x, func):\n",
    "    print(x,func(3))\n",
    "\n",
    "addno(2,square)"
   ]
  },
  {
   "cell_type": "markdown",
   "id": "a7d6dc9c",
   "metadata": {},
   "source": [
    "## List comprehension"
   ]
  },
  {
   "cell_type": "code",
   "execution_count": null,
   "id": "aca7649a",
   "metadata": {},
   "outputs": [],
   "source": []
  }
 ],
 "metadata": {
  "kernelspec": {
   "display_name": "Python 3 (ipykernel)",
   "language": "python",
   "name": "python3"
  },
  "language_info": {
   "codemirror_mode": {
    "name": "ipython",
    "version": 3
   },
   "file_extension": ".py",
   "mimetype": "text/x-python",
   "name": "python",
   "nbconvert_exporter": "python",
   "pygments_lexer": "ipython3",
   "version": "3.9.13"
  }
 },
 "nbformat": 4,
 "nbformat_minor": 5
}
