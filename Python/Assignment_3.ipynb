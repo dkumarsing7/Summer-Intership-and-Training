{
 "cells": [
  {
   "cell_type": "code",
   "execution_count": 61,
   "id": "834357e4",
   "metadata": {},
   "outputs": [
    {
     "name": "stdout",
     "output_type": "stream",
     "text": [
      "1234*\n",
      "567**\n",
      "89***\n"
     ]
    }
   ],
   "source": [
    "k=1\n",
    "for i in range(1,4):\n",
    "    for j in range(i,5):\n",
    "        print(k,end='')\n",
    "        k+=1\n",
    "    print(\"*\"*i,end='')\n",
    "    print()"
   ]
  },
  {
   "cell_type": "code",
   "execution_count": 96,
   "id": "d8e90ebd",
   "metadata": {},
   "outputs": [
    {
     "name": "stdout",
     "output_type": "stream",
     "text": [
      "ABCD1\n",
      "ABC12\n",
      "AB123\n",
      "A1234\n"
     ]
    }
   ],
   "source": [
    "for i in range(1,5):\n",
    "    k=65\n",
    "    for j in range(i,5):\n",
    "        print(chr(k),end='')\n",
    "        k+=1\n",
    "    for l in range (1,i+1):\n",
    "        print(l,end='')\n",
    "    print()"
   ]
  },
  {
   "cell_type": "code",
   "execution_count": 102,
   "id": "c966dd66",
   "metadata": {},
   "outputs": [
    {
     "name": "stdout",
     "output_type": "stream",
     "text": [
      "    A\n",
      "   BC\n",
      "  DEF\n",
      " GHIJ\n"
     ]
    }
   ],
   "source": [
    "k=65\n",
    "for i in range(1,5):\n",
    "    for j in range(i,5):\n",
    "        print(\" \",end='')\n",
    "    for l in range (1,i+1):\n",
    "        print(chr(k),end='')\n",
    "        k+=1\n",
    "    print()"
   ]
  },
  {
   "cell_type": "code",
   "execution_count": 144,
   "id": "0d1add65",
   "metadata": {},
   "outputs": [
    {
     "name": "stdout",
     "output_type": "stream",
     "text": [
      " *******\n",
      "  *****\n",
      "   ***\n",
      "    *\n"
     ]
    }
   ],
   "source": [
    "for i in range(1,5):\n",
    "    for j in range(1,i+1):\n",
    "        print(' ',end='')\n",
    "    for j in range(i,5):\n",
    "        print(\"*\",end='')\n",
    "    for j in range(i,4):\n",
    "        print('*',end='')\n",
    "    print()\n"
   ]
  },
  {
   "cell_type": "code",
   "execution_count": 151,
   "id": "1d2f0edb",
   "metadata": {},
   "outputs": [
    {
     "name": "stdout",
     "output_type": "stream",
     "text": [
      "A B C D 1 \n",
      "E F G 2 3 \n",
      "H I 4 5 6 \n",
      "J 7 8 9 10 \n"
     ]
    }
   ],
   "source": [
    "k=65\n",
    "m=1\n",
    "for i in range(1,5):\n",
    "    for j in range(i,5):\n",
    "        print(chr(k),'',end='')\n",
    "        k+=1\n",
    "    for l in range (1,i+1):\n",
    "        print(m,'',end='')\n",
    "        m+=1\n",
    "    print()"
   ]
  }
 ],
 "metadata": {
  "kernelspec": {
   "display_name": "Python 3 (ipykernel)",
   "language": "python",
   "name": "python3"
  },
  "language_info": {
   "codemirror_mode": {
    "name": "ipython",
    "version": 3
   },
   "file_extension": ".py",
   "mimetype": "text/x-python",
   "name": "python",
   "nbconvert_exporter": "python",
   "pygments_lexer": "ipython3",
   "version": "3.9.13"
  }
 },
 "nbformat": 4,
 "nbformat_minor": 5
}
